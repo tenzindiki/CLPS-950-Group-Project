{
  "nbformat": 4,
  "nbformat_minor": 0,
  "metadata": {
    "colab": {
      "provenance": [],
      "toc_visible": true,
      "include_colab_link": true
    },
    "kernelspec": {
      "name": "python3",
      "display_name": "Python 3"
    },
    "language_info": {
      "name": "python"
    }
  },
  "cells": [
    {
      "cell_type": "markdown",
      "metadata": {
        "id": "view-in-github",
        "colab_type": "text"
      },
      "source": [
        "<a href=\"https://colab.research.google.com/github/tenzindiki/CLPS-950-Group-Project/blob/main/Python_Typing_Test.ipynb\" target=\"_parent\"><img src=\"https://colab.research.google.com/assets/colab-badge.svg\" alt=\"Open In Colab\"/></a>"
      ]
    },
    {
      "cell_type": "markdown",
      "source": [
        "# Importing Libraries"
      ],
      "metadata": {
        "id": "pVTI3sHLKHve"
      }
    },
    {
      "cell_type": "code",
      "execution_count": null,
      "metadata": {
        "colab": {
          "base_uri": "https://localhost:8080/"
        },
        "id": "vLZsEi0bpFCs",
        "outputId": "25365e0b-09ca-48fc-f32a-56d60414787e"
      },
      "outputs": [
        {
          "output_type": "stream",
          "name": "stdout",
          "text": [
            "pygame 2.6.1 (SDL 2.28.4, Python 3.11.12)\n",
            "Hello from the pygame community. https://www.pygame.org/contribute.html\n"
          ]
        }
      ],
      "source": [
        "import numpy as np\n",
        "import tkinter as tk\n",
        "from tkinter import ttk\n",
        "import pygame\n",
        "import json\n",
        "import requests\n",
        "import math\n",
        "import threading\n",
        "import os\n",
        "import random\n",
        "import time\n",
        "from collections import defaultdict, Counter\n",
        "import matplotlib.pyplot as plt\n",
        "from scipy.io import wavfile\n",
        "from IPython.display import Audio, display"
      ]
    },
    {
      "cell_type": "markdown",
      "source": [
        "# Setting Up Test (Initialization)"
      ],
      "metadata": {
        "id": "HRFWgX4lIeQK"
      }
    },
    {
      "cell_type": "code",
      "source": [
        "start_time = None # tracks elapsed time (starts at 0)\n",
        "char_position = 0 # tracks position of character within a string of text (starts at 0)\n",
        "errors = 0 # tracks number of mistakes made by user (starts at 0)\n",
        "wpm_tracker = [] # tracks words per minute values as they change throughout a given test\n",
        "character_mistype = defaultdict(int) # tracks number of times user incorrectly types a particular character\n",
        "word_counter = Counter() # tracks number of times a particular word emerges during the test\n",
        "total_characters = 0 # tracks total number of characters encountered during a test (starts at 0)\n"
      ],
      "metadata": {
        "id": "zFe9RWuWIkKk"
      },
      "execution_count": null,
      "outputs": []
    },
    {
      "cell_type": "markdown",
      "source": [
        "# Loading Text"
      ],
      "metadata": {
        "id": "kSQfdkejQDhz"
      }
    },
    {
      "cell_type": "code",
      "source": [
        "API_URL = \"https://quoteapi.pythonanywhere.com/\" # test retrieves quotations from this site\n",
        "def retrieve_quotation(): # function retrieves quotation\n",
        "  try:\n",
        "    quotation = requests.get(API_URL) # requests quotation from our chosen API\n",
        "    if quotation.ok: # if quotation can be retrieved\n",
        "      text = quotation.json()['content'] # specifically transfers quotation from API to Python; JSON string is converted into Python object\n",
        "      for word in text.split(): # isolates each word in the text\n",
        "        word_counter[word.lower()] += 1 # every time a particular word appears, a word counter is updated to keep track of how many times that word has appeared during the test; also makes sure each word is lowercase\n",
        "      return text\n",
        "  except: # if quotation cannot be retrieved\n",
        "    fallback = random.choice([\"We hope you're enjoying our typing test!\",\"Feel free to share this test with your friends to see whose typing reigns supreme!\"]) # example sentences that user can type if quotations do not load\n",
        "    for word in fallback.split(): # isolates each word in the text\n",
        "      word_counter[word.lower()] += 1 # every time a particular word appears, a word counter is updated to keep track of how many times that word has appeared during the test; also makes sure each word is lowercase\n",
        "    return fallback"
      ],
      "metadata": {
        "id": "jio42RoXQaIY"
      },
      "execution_count": null,
      "outputs": []
    },
    {
      "cell_type": "markdown",
      "source": [
        "# Establishing Proximity of Letters (Relative to Each Other)"
      ],
      "metadata": {
        "id": "AQLmAzlDo0A2"
      }
    },
    {
      "cell_type": "code",
      "source": [
        "keyboard_proximity = { # two letters were considered close to each other -- i.e., in near proximity -- when they were adjacent to each other, whether horizontally, vertically, or diagonally\n",
        "    'a':['q','w','s','z'],'s':['a','w','e','d','x','z'],'d':['s','e','r','f','c','x'],'f':['d','r','t','g','v','c'],'g':['f','t','y','h','b','v'],'h':['g','y','u','j','n','b'],'j':['h','u','i','k','m','n'],'k':['j','i','o','l','m'],'l':['k','o','p'],'q':['w','a'],'w':['q','e','s','a'],'e':['w','r','d','s'],'r':['e','t','f','d'],'t':['r','y','g','f'],'y':['t','u','h','g'],'u':['y','i','j','h'],'i':['u','o','k','j'],'o':['i','p','l','k'],'p':['o','l'],'z':['a','s','x'],'x':['z','s','d','c'],'c':['x','d','f','v'],'v':['c','f','g','b'],'b':['v','g','h','n'],'n':['b','h','j','m'],'m':['n','j','k']\n",
        "}"
      ],
      "metadata": {
        "id": "JQPP8Tcepm3y"
      },
      "execution_count": null,
      "outputs": []
    },
    {
      "cell_type": "markdown",
      "source": [
        "# Constructing GUI"
      ],
      "metadata": {
        "id": "EKjPvYXAQ-QE"
      }
    },
    {
      "cell_type": "code",
      "source": [
        "class PythonTypingTestApp: # defines class of GUI\n",
        "  def __init__(self,root): # initializes new objects within the class\n",
        "    self.root = root # sets up and saves main window of typing test\n",
        "    self.root.title(\"Python Typing Test\") # creates title of typing test\n",
        "    self.root.geometry(\"900x500\") # specifies size of window\n",
        "\n",
        "    self.setup_widgets() # places the elements of our GUI within the test (detailed in next section of the code)\n",
        "    self.reset_test() # clears all previous data before (re)starting test\n",
        "\n",
        "    #just testing to see that this is updating and working properly"
      ],
      "metadata": {
        "id": "yZ2Sv8x7nCdE"
      },
      "execution_count": null,
      "outputs": []
    }
  ]
}